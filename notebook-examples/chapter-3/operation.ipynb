{
 "cells": [
  {
   "cell_type": "code",
   "execution_count": 4,
   "metadata": {},
   "outputs": [
    {
     "name": "stderr",
     "output_type": "stream",
     "text": [
      "WARNING: Logging before flag parsing goes to stderr.\n",
      "W0116 14:46:05.476788 4596428224 deprecation.py:323] From /Users/cool/.pyenv/versions/3.6.8/lib/python3.6/site-packages/tensorflow_core/python/compat/v2_compat.py:88: disable_resource_variables (from tensorflow.python.ops.variable_scope) is deprecated and will be removed in a future version.\n",
      "Instructions for updating:\n",
      "non-resource variables are not supported in the long term\n"
     ]
    }
   ],
   "source": [
    "import tensorflow.compat.v1 as tf\n",
    "tf.disable_v2_behavior()"
   ]
  },
  {
   "cell_type": "code",
   "execution_count": 5,
   "metadata": {},
   "outputs": [],
   "source": [
    "# 常量操作\n",
    "a = tf.constant(2)\n",
    "b = tf.constant(3)"
   ]
  },
  {
   "cell_type": "code",
   "execution_count": 8,
   "metadata": {},
   "outputs": [
    {
     "name": "stdout",
     "output_type": "stream",
     "text": [
      "a: 2\n",
      "b: 3\n",
      "Addition with constants: 5\n",
      "Multiplication with constants: 6\n"
     ]
    }
   ],
   "source": [
    "# 创建会话，并执行计算操作\n",
    "with tf.Session() as sess:\n",
    "    print('a: %i' % sess.run(a))\n",
    "    print('b: %i' % sess.run(b))\n",
    "    print('Addition with constants: %i' % sess.run(a + b))\n",
    "    print('Multiplication with constants: %i' % sess.run(a * b))"
   ]
  },
  {
   "cell_type": "code",
   "execution_count": 9,
   "metadata": {},
   "outputs": [],
   "source": [
    "# 占位符操作\n",
    "# x = tf.placeholder(dtype, shape, name)\n",
    "x = tf.placeholder(tf.int16, shape=(), name='x')\n",
    "y = tf.placeholder(tf.int16, shape=(), name='y')"
   ]
  },
  {
   "cell_type": "code",
   "execution_count": 10,
   "metadata": {},
   "outputs": [],
   "source": [
    "# 计算操作\n",
    "add = tf.add(x, y)\n",
    "mul = tf.multiply(x, y)"
   ]
  },
  {
   "cell_type": "code",
   "execution_count": 15,
   "metadata": {},
   "outputs": [
    {
     "name": "stdout",
     "output_type": "stream",
     "text": [
      "Addition with variables: 15\n",
      "Multiplication with variables: 6\n"
     ]
    }
   ],
   "source": [
    "# 加载默认数据流图\n",
    "with tf.Session() as sess:\n",
    "    # 不填充数据，直接执行操作，报错\n",
    "    print('Addition with variables: %i' % sess.run(add, feed_dict={x: 5, y: 10}))\n",
    "    print('Multiplication with variables: %s' % sess.run(mul, feed_dict={x: 2, y: 3}))"
   ]
  },
  {
   "cell_type": "code",
   "execution_count": 16,
   "metadata": {},
   "outputs": [
    {
     "name": "stdout",
     "output_type": "stream",
     "text": [
      "Addition with variables: 5\n",
      "Multiplication with variables: 6\n"
     ]
    }
   ],
   "source": [
    "# 加载默认数据流图\n",
    "with tf.Session() as sess:\n",
    "    # 不填充数据，直接执行操作，报错\n",
    "    print(\"Addition with variables: %i\" % sess.run(add, feed_dict={x: 2, y: 3}))\n",
    "    print(\"Multiplication with variables: %i\" % sess.run(mul, feed_dict={x: 2, y: 3}))"
   ]
  },
  {
   "cell_type": "code",
   "execution_count": null,
   "metadata": {},
   "outputs": [],
   "source": []
  }
 ],
 "metadata": {
  "hide_input": false,
  "kernelspec": {
   "display_name": "Python 3",
   "language": "python",
   "name": "python3"
  },
  "language_info": {
   "codemirror_mode": {
    "name": "ipython",
    "version": 3
   },
   "file_extension": ".py",
   "mimetype": "text/x-python",
   "name": "python",
   "nbconvert_exporter": "python",
   "pygments_lexer": "ipython3",
   "version": "3.6.8"
  },
  "toc": {
   "base_numbering": 1,
   "nav_menu": {},
   "number_sections": true,
   "sideBar": true,
   "skip_h1_title": false,
   "title_cell": "Table of Contents",
   "title_sidebar": "Contents",
   "toc_cell": false,
   "toc_position": {},
   "toc_section_display": true,
   "toc_window_display": false
  }
 },
 "nbformat": 4,
 "nbformat_minor": 1
}
